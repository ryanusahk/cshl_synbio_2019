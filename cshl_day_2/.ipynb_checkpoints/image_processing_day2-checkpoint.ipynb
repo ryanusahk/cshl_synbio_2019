{
 "cells": [
  {
   "cell_type": "code",
   "execution_count": null,
   "metadata": {},
   "outputs": [],
   "source": [
    "import time\n",
    "import numpy as np\n",
    "import cv2\n",
    "import os\n",
    "from matplotlib import pyplot as plt\n",
    "import pandas as pd\n",
    "import seaborn as sns\n",
    "import matplotlib as mpl\n",
    "import sys\n",
    "sys.path.append('/dropletAnalysisTools_2_0.py')\n",
    "import dropletAnalysisTools_2_0 as dat\n",
    "\n",
    "%matplotlib inline"
   ]
  },
  {
   "cell_type": "markdown",
   "metadata": {},
   "source": [
    "# 0) Select directories"
   ]
  },
  {
   "cell_type": "code",
   "execution_count": null,
   "metadata": {},
   "outputs": [],
   "source": [
    "RAW_IMAGE_DIR = 'day2'\n",
    "\n",
    "IMAGE_OUTPUT_DIR = RAW_IMAGE_DIR + '/IMAGES/'\n",
    "PLOT_OUTPUT_DIR = RAW_IMAGE_DIR + '/PLOTS/'\n",
    "\n",
    "dat.RAW_IMAGE_DIR = RAW_IMAGE_DIR\n",
    "dat.IMAGE_OUTPUT_DIR = IMAGE_OUTPUT_DIR\n",
    "dat.PLOT_OUTPUT_DIR = PLOT_OUTPUT_DIR\n",
    "\n",
    "if not os.path.exists(IMAGE_OUTPUT_DIR):\n",
    "    os.makedirs(IMAGE_OUTPUT_DIR)\n",
    "if not os.path.exists(PLOT_OUTPUT_DIR):\n",
    "    os.makedirs(PLOT_OUTPUT_DIR)"
   ]
  },
  {
   "cell_type": "markdown",
   "metadata": {},
   "source": [
    "# 1) Tune LUTs for cell and droplet identification"
   ]
  },
  {
   "cell_type": "markdown",
   "metadata": {},
   "source": [
    "### Set scalebar constant"
   ]
  },
  {
   "cell_type": "code",
   "execution_count": null,
   "metadata": {},
   "outputs": [],
   "source": [
    "umPerPixel = 0.23"
   ]
  },
  {
   "cell_type": "markdown",
   "metadata": {},
   "source": [
    "### Choose fluoresence channels and LUT scales"
   ]
  },
  {
   "cell_type": "code",
   "execution_count": null,
   "metadata": {},
   "outputs": [],
   "source": [
    "BF_TAG = '_TRANS.tif'\n",
    "GFP_TAG = '_GFP.tif'\n",
    "RFP_TAG = '_RFP.tif'\n",
    "\n",
    "TAGS = [BF_TAG, GFP_TAG, RFP_TAG]"
   ]
  },
  {
   "cell_type": "code",
   "execution_count": null,
   "metadata": {},
   "outputs": [],
   "source": [
    "dat.BF_TAG = BF_TAG\n",
    "dat.GFP_TAG = GFP_TAG\n",
    "dat.TAGS = [BF_TAG, GFP_TAG, RFP_TAG]"
   ]
  },
  {
   "cell_type": "markdown",
   "metadata": {},
   "source": [
    "### Load files"
   ]
  },
  {
   "cell_type": "code",
   "execution_count": null,
   "metadata": {},
   "outputs": [],
   "source": [
    "roots, fullpaths = dat.pull_image_roots(RAW_IMAGE_DIR)"
   ]
  },
  {
   "cell_type": "code",
   "execution_count": null,
   "metadata": {},
   "outputs": [],
   "source": [
    "test_root = fullpaths[0]"
   ]
  },
  {
   "cell_type": "markdown",
   "metadata": {},
   "source": [
    "### Overwriting/Tuning Scales (adjust LUTs)"
   ]
  },
  {
   "cell_type": "code",
   "execution_count": null,
   "metadata": {
    "scrolled": false
   },
   "outputs": [],
   "source": [
    "GFP_SCALE = [0, 255]\n",
    "\n",
    "c = dat.loadAndScaleImage(test_root+GFP_TAG, scale=GFP_SCALE, display=True, hist=True)"
   ]
  },
  {
   "cell_type": "code",
   "execution_count": null,
   "metadata": {},
   "outputs": [],
   "source": [
    "RFP_SCALE = [0, 255]\n",
    "\n",
    "c = dat.loadAndScaleImage(test_root+RFP_TAG, scale=RFP_SCALE, display=True, hist=True)"
   ]
  },
  {
   "cell_type": "code",
   "execution_count": null,
   "metadata": {},
   "outputs": [],
   "source": [
    "BF_SCALE = [0, 255]\n",
    "DIAMETER_VAL=100\n",
    "THRESHOLD_VAL=100\n",
    "\n",
    "loaded_BF_img = dat.loadAndScaleImage(test_root+BF_TAG, scale=BF_SCALE, display=False)\n",
    "circumscribed_BF_img, circles = dat.findCirclesFromBF(loaded_BF_img, diameter_val=DIAMETER_VAL, threshold_val=THRESHOLD_VAL, display=True)"
   ]
  },
  {
   "cell_type": "markdown",
   "metadata": {},
   "source": [
    "### Verify Scale List"
   ]
  },
  {
   "cell_type": "code",
   "execution_count": null,
   "metadata": {},
   "outputs": [],
   "source": [
    "SCALES = [BF_SCALE, GFP_SCALE, RFP_SCALE]"
   ]
  },
  {
   "cell_type": "code",
   "execution_count": null,
   "metadata": {},
   "outputs": [],
   "source": [
    "BF_TAG = TAGS[0]\n",
    "BF_SCALE = SCALES[0]\n",
    "\n",
    "FLUOR_TAGS = TAGS[1:]\n",
    "FLUOR_SCALES = SCALES[1:]"
   ]
  },
  {
   "cell_type": "code",
   "execution_count": null,
   "metadata": {},
   "outputs": [],
   "source": [
    "dat.SCALES = SCALES\n",
    "dat.BF_TAG = BF_TAG\n",
    "dat.BF_SCALE = BF_SCALE\n",
    "dat.FLUOR_TAGS = FLUOR_TAGS\n",
    "dat.FLUOR_SCALES = FLUOR_SCALES"
   ]
  },
  {
   "cell_type": "markdown",
   "metadata": {},
   "source": [
    "# 2) Check Alignment of channels"
   ]
  },
  {
   "cell_type": "code",
   "execution_count": null,
   "metadata": {},
   "outputs": [],
   "source": [
    "test_root+GFP_TAG"
   ]
  },
  {
   "cell_type": "code",
   "execution_count": null,
   "metadata": {
    "scrolled": false
   },
   "outputs": [],
   "source": [
    "loaded_BF_img = dat.loadAndScaleImage(test_root+BF_TAG, scale=BF_SCALE, display=False)\n",
    "circumscribed_BF_img, circles = dat.findCirclesFromBF(loaded_BF_img, diameter_val=DIAMETER_VAL, threshold_val=THRESHOLD_VAL, display=True)\n",
    "\n",
    "loaded_channels = []\n",
    "for fluor_tag, fluor_scale in zip(FLUOR_TAGS, FLUOR_SCALES):\n",
    "    print fluor_tag\n",
    "    loaded_image = dat.loadAndScaleImage(test_root+fluor_tag, scale=fluor_scale)\n",
    "    loaded_channels.append(loaded_image)\n",
    "\n",
    "loaded_channels = np.array(loaded_channels)\n",
    "combined_fluor_img = np.amax(loaded_channels, axis=0)\n",
    "\n",
    "circumscribed_combined_fluor_img = dat.drawCirclesOnImage(combined_fluor_img, circles)\n",
    "dat.printImage(circumscribed_combined_fluor_img)"
   ]
  },
  {
   "cell_type": "markdown",
   "metadata": {},
   "source": [
    "# 3) Check all image alignments"
   ]
  },
  {
   "cell_type": "code",
   "execution_count": null,
   "metadata": {
    "scrolled": false
   },
   "outputs": [],
   "source": [
    "extracted_circles_dict = dat.extractAllCircleRegions(fullpaths, DIAMETER_VAL, THRESHOLD_VAL, TAGS, SCALES)"
   ]
  },
  {
   "cell_type": "markdown",
   "metadata": {},
   "source": [
    "### Size distribution"
   ]
  },
  {
   "cell_type": "code",
   "execution_count": null,
   "metadata": {},
   "outputs": [],
   "source": [
    "diameters = [d.shape[0]*umPerPixel for d in extracted_circles_dict[BF_TAG]]    "
   ]
  },
  {
   "cell_type": "code",
   "execution_count": null,
   "metadata": {},
   "outputs": [],
   "source": [
    "sns.distplot(diameters)\n",
    "plt.title('Diameter of ' + str(len(diameters)) +' droplets')\n",
    "plt.xlabel(u'Diameter (µm)')\n",
    "plt.ylabel(u'Proportion per µm')\n",
    "sns.despine()\n",
    "plt.savefig(PLOT_OUTPUT_DIR+'distribution.png', dpi=450)"
   ]
  },
  {
   "cell_type": "markdown",
   "metadata": {},
   "source": [
    "# 4) Compile extracted droplets"
   ]
  },
  {
   "cell_type": "code",
   "execution_count": null,
   "metadata": {
    "scrolled": false
   },
   "outputs": [],
   "source": [
    "masked_droplets = dat.getMaskedDropletObjects(extracted_circles_dict)"
   ]
  },
  {
   "cell_type": "code",
   "execution_count": null,
   "metadata": {
    "scrolled": false
   },
   "outputs": [],
   "source": [
    "dat.printDropletMatrix(masked_droplets, channels=dat.channelsWithSuffix([BF_TAG], '_whiteline'),\n",
    "                       filename='grid_all_BF.png')\n",
    "dat.printDropletMatrix(masked_droplets, channels=dat.channelsWithSuffix(TAGS, '_whiteline'),\n",
    "                       filename='grid_all_channels.png')\n",
    "dat.printDropletMatrix(masked_droplets, channels=dat.channelsWithSuffix(FLUOR_TAGS, '_whiteline'),\n",
    "                       filename='grid_all_fluor.png')"
   ]
  },
  {
   "cell_type": "markdown",
   "metadata": {},
   "source": [
    "# 5) Quantify Fluorescence and output"
   ]
  },
  {
   "cell_type": "code",
   "execution_count": null,
   "metadata": {},
   "outputs": [],
   "source": [
    "fluorescence_droplets = []\n",
    "for d in masked_droplets:\n",
    "    fluorescence_droplet = d\n",
    "    for tag in TAGS:\n",
    "        fluorescence_droplet = dat.dropletFluorescenceMean(fluorescence_droplet, tag)\n",
    "    fluorescence_droplets.append(fluorescence_droplet)"
   ]
  },
  {
   "cell_type": "code",
   "execution_count": null,
   "metadata": {},
   "outputs": [],
   "source": [
    "for tag in TAGS[1:]:\n",
    "    sns.distplot(a=[d[tag+'_fluor'] for d in fluorescence_droplets])\n",
    "    plt.title(tag + ' Intensity across droplets')\n",
    "    plt.xlabel('RFU')\n",
    "    plt.show()"
   ]
  },
  {
   "cell_type": "code",
   "execution_count": null,
   "metadata": {},
   "outputs": [],
   "source": [
    "fluor_df = pd.DataFrame()\n",
    "for tag in TAGS[1:]:\n",
    "    fluor_df[tag+'_fluor'] = [d[tag+'_fluor'] for d in fluorescence_droplets]\n",
    "fluor_df.to_csv('intensities.csv')"
   ]
  },
  {
   "cell_type": "code",
   "execution_count": null,
   "metadata": {
    "scrolled": false
   },
   "outputs": [],
   "source": [
    "for tag1 in TAGS[1:]:\n",
    "    for tag2 in TAGS[1:]:\n",
    "        if tag1 != tag2:\n",
    "            plt.subplots(figsize=(5, 5))\n",
    "            sns.scatterplot(x=fluor_df[tag1+'_fluor'], y=fluor_df[tag2+'_fluor'])\n",
    "            plt.show()"
   ]
  },
  {
   "cell_type": "markdown",
   "metadata": {},
   "source": [
    "# 6) Count cells"
   ]
  },
  {
   "cell_type": "code",
   "execution_count": null,
   "metadata": {
    "scrolled": true
   },
   "outputs": [],
   "source": [
    "counted_droplets = []\n",
    "for d in masked_droplets:\n",
    "    counted_droplet = dat.countCellsInDrop(d, GFP_TAG)\n",
    "    counted_droplet = dat.countCellsInDrop(counted_droplet, RFP_TAG)\n",
    "    counted_droplets.append(counted_droplet)"
   ]
  },
  {
   "cell_type": "code",
   "execution_count": null,
   "metadata": {
    "scrolled": false
   },
   "outputs": [],
   "source": [
    "dat.printDropletMatrix(counted_droplets, channels=[GFP_TAG+'_cellregion'], filename='grid_count_GFP.png')\n",
    "dat.printDropletMatrix(counted_droplets, channels=[RFP_TAG+'_cellregion'], filename='grid_count_RFP.png')"
   ]
  },
  {
   "cell_type": "code",
   "execution_count": null,
   "metadata": {
    "scrolled": false
   },
   "outputs": [],
   "source": [
    "dat.printSortedDropletMatrix(counted_droplets, FLUOR_TAGS, filename='sorted_droplet_matrix.png')"
   ]
  },
  {
   "cell_type": "code",
   "execution_count": null,
   "metadata": {
    "scrolled": false
   },
   "outputs": [],
   "source": [
    "full_droplets, empty_droplets = dat.subsetWhereNonempty(masked_droplets)\n",
    "dat.printDropletMatrix(full_droplets, channels=dat.channelsWithSuffix(TAGS, '_whiteline'), filename='grid_full_channels.png')\n",
    "dat.printDropletMatrix(full_droplets, channels=dat.channelsWithSuffix(FLUOR_TAGS, '_whiteline'), filename='grid_full_fluor.png')\n",
    "dat.printDropletMatrix(empty_droplets, channels=dat.channelsWithSuffix(TAGS, '_whiteline'), filename='grid_empty_channels.png')"
   ]
  },
  {
   "cell_type": "markdown",
   "metadata": {},
   "source": [
    "# 6) Plots"
   ]
  },
  {
   "cell_type": "markdown",
   "metadata": {},
   "source": [
    "#### count_df stores counts of cells for each droplet"
   ]
  },
  {
   "cell_type": "code",
   "execution_count": null,
   "metadata": {},
   "outputs": [],
   "source": [
    "count_df = dat.dropletsToDF(counted_droplets).astype(int)\n",
    "count_df = count_df.rename(index=str, columns={\n",
    "    '_TxR.tif_cellcount':'RFP_count',\n",
    "    '_YFP.tif_cellcount':'YFP_count',\n",
    "    '_CFP.tif_cellcount':'CFP_count'\n",
    "})"
   ]
  },
  {
   "cell_type": "code",
   "execution_count": null,
   "metadata": {},
   "outputs": [],
   "source": [
    "def getSpecificPairOrLess(condition1, condition2, original_df):\n",
    "    df = original_df.copy()\n",
    "    cols = df.columns.copy()\n",
    "    truth=[]\n",
    "    print cols\n",
    "    for c in cols:\n",
    "        if c not in [condition1, condition2]:\n",
    "            truth.append(df[c] == 0)\n",
    "    for t in truth:\n",
    "        df = df[t]\n",
    "    return df.copy()"
   ]
  },
  {
   "cell_type": "code",
   "execution_count": null,
   "metadata": {},
   "outputs": [],
   "source": [
    "def getSpecificStrain(condition1, original_df):\n",
    "    df = original_df.copy()\n",
    "    cols = df.columns.copy()\n",
    "    truth=[]\n",
    "    for c in cols:\n",
    "        if c not in [condition1]:\n",
    "            truth.append(df[c] == 0)\n",
    "    for t in truth:\n",
    "        df = df[t]\n",
    "    return df.copy()"
   ]
  },
  {
   "cell_type": "code",
   "execution_count": null,
   "metadata": {},
   "outputs": [],
   "source": [
    "sns.set_context('talk', font_scale=1.5)"
   ]
  },
  {
   "cell_type": "markdown",
   "metadata": {},
   "source": [
    "### Lambda"
   ]
  },
  {
   "cell_type": "code",
   "execution_count": null,
   "metadata": {},
   "outputs": [],
   "source": [
    "import scipy as sp\n",
    "def poisson(k, l):\n",
    "    l=float(l)\n",
    "    return ((l**k)*(np.exp(-l))) / (np.math.factorial(k))\n",
    "\n",
    "def percentZerosToLambda(percent):\n",
    "    opt = sp.optimize.curve_fit(poisson, [0], [percent])\n",
    "    return np.round(opt[0][0], 2)"
   ]
  },
  {
   "cell_type": "code",
   "execution_count": null,
   "metadata": {},
   "outputs": [],
   "source": [
    "sum_cells_array = [np.sum(row.as_matrix()) for index, row in count_df.iterrows()]\n",
    "\n",
    "n_full = np.count_nonzero(sum_cells_array)\n",
    "n_empty = len(sum_cells_array) - n_full\n",
    "n_total = len(sum_cells_array)"
   ]
  },
  {
   "cell_type": "code",
   "execution_count": null,
   "metadata": {},
   "outputs": [],
   "source": [
    "print 'FULL  DROPLETS: ', n_full\n",
    "print 'EMPTY DROPLETS: ', n_empty\n",
    "print 'TOTAL DROPLETS: ', n_total\n",
    "\n",
    "print 'EFFECTIVE LAMBDA: ', percentZerosToLambda(1.*n_empty/n_total) "
   ]
  },
  {
   "cell_type": "markdown",
   "metadata": {},
   "source": [
    "# 6) Fitness Changes"
   ]
  },
  {
   "cell_type": "code",
   "execution_count": null,
   "metadata": {},
   "outputs": [],
   "source": [
    "sns_palette = sns.color_palette(\"hls\", 12)\n",
    "\n",
    "sns_red = sns_palette[0]\n",
    "sns_yellow = sns_palette[2]\n",
    "sns_green = sns_palette[3]\n",
    "sns_cyan = sns_palette[6]\n",
    "\n",
    "material_red = '#F44336'\n",
    "material_cyan = '#00BCD4'\n",
    "material_yellow = '#FFEB3B'"
   ]
  },
  {
   "cell_type": "code",
   "execution_count": null,
   "metadata": {},
   "outputs": [],
   "source": [
    "conditions = ['RFP_count', 'CFP_count', 'YFP_count']\n",
    "colors = [material_red, material_cyan, material_yellow]"
   ]
  },
  {
   "cell_type": "code",
   "execution_count": null,
   "metadata": {},
   "outputs": [],
   "source": [
    "pair_df = pd.DataFrame()\n",
    "\n",
    "for mainStrain in conditions:\n",
    "    single_strain_df = pd.DataFrame()\n",
    "    for partnerStrain in conditions:\n",
    "        ind_count_df = pd.DataFrame()\n",
    "        spec_pair_df = getSpecificPairOrLess(mainStrain, partnerStrain, count_df)\n",
    "        spec_pair_df = spec_pair_df[spec_pair_df[mainStrain] > 0]\n",
    "        spec_pair_df = spec_pair_df[spec_pair_df[partnerStrain] > 0]    \n",
    "        temp_series = spec_pair_df[spec_pair_df[mainStrain] > 0][mainStrain]\n",
    "        ind_count_df['count'] = temp_series\n",
    "        ind_count_df['strain'] = [mainStrain.split('_')[0]]*len(ind_count_df)\n",
    "        ind_count_df['grown with'] = [partnerStrain.split('_')[0]]*len(ind_count_df)\n",
    "        single_strain_df = single_strain_df.append(ind_count_df, ignore_index=True)\n",
    "         \n",
    "    mean_self_count = np.mean(single_strain_df[single_strain_df['grown with']==mainStrain.split('_')[0]]['count'])\n",
    "    single_strain_df['relative growth'] = single_strain_df['count']/mean_self_count\n",
    "    pair_df = pair_df.append(single_strain_df)"
   ]
  },
  {
   "cell_type": "code",
   "execution_count": null,
   "metadata": {},
   "outputs": [],
   "source": [
    "sns.set_context('talk', font_scale=1.5)"
   ]
  },
  {
   "cell_type": "markdown",
   "metadata": {},
   "source": [
    "### Absolute count change"
   ]
  },
  {
   "cell_type": "code",
   "execution_count": null,
   "metadata": {
    "scrolled": false
   },
   "outputs": [],
   "source": [
    "dat.saveInteractionPlot(x='strain', y='count', z='grown with',\n",
    "                    df=pair_df, colors=colors, kind='bar',\n",
    "                    title='Count of cells per drop',\n",
    "                    filename='abs_bar_partner.png', yIsOne=False)"
   ]
  },
  {
   "cell_type": "markdown",
   "metadata": {},
   "source": [
    "### Relative count change"
   ]
  },
  {
   "cell_type": "code",
   "execution_count": null,
   "metadata": {
    "scrolled": false
   },
   "outputs": [],
   "source": [
    "dat.saveInteractionPlot(x='strain', y='relative growth', z='grown with',\n",
    "                    df=pair_df, colors=colors, kind='bar',\n",
    "                    title='Relative growth per drop',\n",
    "                    filename='rel_bar_partner.png', yIsOne=True)"
   ]
  },
  {
   "cell_type": "code",
   "execution_count": null,
   "metadata": {
    "scrolled": false
   },
   "outputs": [],
   "source": [
    "dat.saveInteractionPlot(x='strain', y='relative growth', z='grown with',\n",
    "                    df=pair_df, colors=colors, kind='swarm',\n",
    "                    title='Relative growth per drop',\n",
    "                    filename='rel_swr_partner.png', yIsOne=True)"
   ]
  },
  {
   "cell_type": "markdown",
   "metadata": {},
   "source": [
    "\n",
    "# 7) Interaction Network"
   ]
  },
  {
   "cell_type": "code",
   "execution_count": null,
   "metadata": {},
   "outputs": [],
   "source": [
    "dat.exportInteractionNetwork(pair_df)"
   ]
  },
  {
   "cell_type": "code",
   "execution_count": null,
   "metadata": {},
   "outputs": [],
   "source": [
    "TIMEPOINT = 18"
   ]
  },
  {
   "cell_type": "code",
   "execution_count": null,
   "metadata": {},
   "outputs": [],
   "source": [
    "output_df = pair_df.copy()\n",
    "output_df['timepoint (hrs)'] = [TIMEPOINT] * len(pair_df)\n",
    "output_df['experiment'] = [RAW_IMAGE_DIR] * len(pair_df)\n",
    "output_df = output_df.reset_index()\n",
    "output_df.to_csv(PLOT_OUTPUT_DIR + 'output_df.csv')\n",
    "output_df.to_json(PLOT_OUTPUT_DIR + 'output_df.json')"
   ]
  },
  {
   "cell_type": "code",
   "execution_count": null,
   "metadata": {},
   "outputs": [],
   "source": [
    "count_output_df = count_df.copy()\n",
    "count_output_df['timepoint (hrs)'] = [TIMEPOINT] * len(count_output_df)\n",
    "count_output_df['experiment'] = [RAW_IMAGE_DIR] * len(count_output_df)\n",
    "count_output_df = count_output_df.reset_index()\n",
    "count_output_df.to_csv(PLOT_OUTPUT_DIR + 'count_output_df.csv')\n",
    "count_output_df.to_json(PLOT_OUTPUT_DIR + 'count_output_df.json')\n",
    "count_output_df"
   ]
  },
  {
   "cell_type": "code",
   "execution_count": null,
   "metadata": {},
   "outputs": [],
   "source": []
  }
 ],
 "metadata": {
  "kernelspec": {
   "display_name": "Python 2",
   "language": "python",
   "name": "python2"
  },
  "language_info": {
   "codemirror_mode": {
    "name": "ipython",
    "version": 2
   },
   "file_extension": ".py",
   "mimetype": "text/x-python",
   "name": "python",
   "nbconvert_exporter": "python",
   "pygments_lexer": "ipython2",
   "version": "2.7.16"
  }
 },
 "nbformat": 4,
 "nbformat_minor": 2
}
